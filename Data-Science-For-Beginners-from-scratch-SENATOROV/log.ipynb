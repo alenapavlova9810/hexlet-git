{
 "cells": [
  {
   "cell_type": "markdown",
   "id": "68834252",
   "metadata": {},
   "source": [
    "13/06\n",
    "\n",
    "Продолжаю проходить интро"
   ]
  }
 ],
 "metadata": {
  "language_info": {
   "name": "python"
  }
 },
 "nbformat": 4,
 "nbformat_minor": 5
}
